{
 "cells": [
  {
   "cell_type": "code",
   "execution_count": 20,
   "metadata": {},
   "outputs": [
    {
     "name": "stdout",
     "output_type": "stream",
     "text": [
      "Data base\n",
      "    DataNotaFiscal    Fabricante          Estado  ValorVenda  ValorCusto  \\\n",
      "0       2012-10-04   Rolls Royce       São Paulo       95000       50000   \n",
      "1       2012-01-01  Aston Martin       São Paulo      120000       75000   \n",
      "2       2012-02-02   Rolls Royce       São Paulo       88000       75000   \n",
      "3       2012-03-03   Rolls Royce       São Paulo       89000       88000   \n",
      "4       2012-04-04   Rolls Royce       São Paulo       92000       62000   \n",
      "..             ...           ...             ...         ...         ...   \n",
      "452     2015-09-23  Aston Martin  Rio de Janeiro       39750       27500   \n",
      "453     2015-10-24  Aston Martin  Rio de Janeiro       40440       22500   \n",
      "454     2015-11-25   Rolls Royce  Rio de Janeiro       72000       22500   \n",
      "455     2015-11-26  Aston Martin  Rio de Janeiro       40440       36125   \n",
      "456     2015-11-27  Aston Martin  Rio de Janeiro       77250       22500   \n",
      "\n",
      "     TotalDesconto  CustoEntrega  CustoMaoDeObra  \\\n",
      "0            500.0           750             750   \n",
      "1              0.0          1500             550   \n",
      "2            750.0          1000             550   \n",
      "3              0.0          1000             550   \n",
      "4              0.0          1500             550   \n",
      "..             ...           ...             ...   \n",
      "452         1300.0           -75            1250   \n",
      "453          550.0           175            1250   \n",
      "454         1050.0           -75             950   \n",
      "455          800.0           875            1250   \n",
      "456          550.0           875            1250   \n",
      "\n",
      "                        NomeCliente       Modelo       Cor   Ano  \n",
      "0                       Aldo Motors     Camargue  Vermelho  2012  \n",
      "1                       Honest John          DBS      Azul  2012  \n",
      "2                     Bright Orange  Prata Ghost     Verde  2012  \n",
      "3                       Honest John  Prata Ghost      Azul  2012  \n",
      "4                       Wheels'R'Us     Camargue     Prata  2012  \n",
      "..                              ...          ...       ...   ...  \n",
      "452  Buckingham Palace Car Services          DB9     Preto  2015  \n",
      "453  British Luxury Automobile Corp          DB9  Vermelho  2015  \n",
      "454                Classy Car Sales     Camargue      Azul  2015  \n",
      "455                 Ambassador Cars          DB9     Verde  2015  \n",
      "456                  Embassy Motors          DB9     Prata  2015  \n",
      "\n",
      "[457 rows x 12 columns]\n"
     ]
    }
   ],
   "source": [
    "import pandas as pd\n",
    "\n",
    "# 1 - Importando od Dados\n",
    "data = pd.read_excel(\"data/VendaCarros.xlsx\")\n",
    "print(\"Data base\")\n",
    "print(data)"
   ]
  },
  {
   "cell_type": "code",
   "execution_count": 22,
   "metadata": {},
   "outputs": [
    {
     "name": "stdout",
     "output_type": "stream",
     "text": [
      "5 primeiros registros\n",
      "  DataNotaFiscal    Fabricante     Estado  ValorVenda  ValorCusto  \\\n",
      "0     2012-10-04   Rolls Royce  São Paulo       95000       50000   \n",
      "1     2012-01-01  Aston Martin  São Paulo      120000       75000   \n",
      "2     2012-02-02   Rolls Royce  São Paulo       88000       75000   \n",
      "3     2012-03-03   Rolls Royce  São Paulo       89000       88000   \n",
      "4     2012-04-04   Rolls Royce  São Paulo       92000       62000   \n",
      "\n",
      "   TotalDesconto  CustoEntrega  CustoMaoDeObra    NomeCliente       Modelo  \\\n",
      "0          500.0           750             750    Aldo Motors     Camargue   \n",
      "1            0.0          1500             550    Honest John          DBS   \n",
      "2          750.0          1000             550  Bright Orange  Prata Ghost   \n",
      "3            0.0          1000             550    Honest John  Prata Ghost   \n",
      "4            0.0          1500             550    Wheels'R'Us     Camargue   \n",
      "\n",
      "        Cor   Ano  \n",
      "0  Vermelho  2012  \n",
      "1      Azul  2012  \n",
      "2     Verde  2012  \n",
      "3      Azul  2012  \n",
      "4     Prata  2012  \n"
     ]
    }
   ],
   "source": [
    "# 2 - Listar os 5 primeiros registros\n",
    "print(\"5 primeiros registros\")\n",
    "print(data.head())"
   ]
  },
  {
   "cell_type": "code",
   "execution_count": 16,
   "metadata": {},
   "outputs": [
    {
     "name": "stdout",
     "output_type": "stream",
     "text": [
      "5 últimos registros\n",
      "    DataNotaFiscal    Fabricante          Estado  ValorVenda  ValorCusto  \\\n",
      "452     2015-09-23  Aston Martin  Rio de Janeiro       39750       27500   \n",
      "453     2015-10-24  Aston Martin  Rio de Janeiro       40440       22500   \n",
      "454     2015-11-25   Rolls Royce  Rio de Janeiro       72000       22500   \n",
      "455     2015-11-26  Aston Martin  Rio de Janeiro       40440       36125   \n",
      "456     2015-11-27  Aston Martin  Rio de Janeiro       77250       22500   \n",
      "\n",
      "     TotalDesconto  CustoEntrega  CustoMaoDeObra  \\\n",
      "452         1300.0           -75            1250   \n",
      "453          550.0           175            1250   \n",
      "454         1050.0           -75             950   \n",
      "455          800.0           875            1250   \n",
      "456          550.0           875            1250   \n",
      "\n",
      "                        NomeCliente    Modelo       Cor   Ano  \n",
      "452  Buckingham Palace Car Services       DB9     Preto  2015  \n",
      "453  British Luxury Automobile Corp       DB9  Vermelho  2015  \n",
      "454                Classy Car Sales  Camargue      Azul  2015  \n",
      "455                 Ambassador Cars       DB9     Verde  2015  \n",
      "456                  Embassy Motors       DB9     Prata  2015  \n"
     ]
    }
   ],
   "source": [
    "# 3 - Listas 5 últimos registros\n",
    "print(\"5 últimos registros\")\n",
    "print(data.tail())"
   ]
  },
  {
   "cell_type": "code",
   "execution_count": 17,
   "metadata": {},
   "outputs": [
    {
     "name": "stdout",
     "output_type": "stream",
     "text": [
      "Contagem de valores por Fabricante\n",
      "Fabricante\n",
      "Jaguar          129\n",
      "Aston Martin    110\n",
      "Bentley          71\n",
      "Rolls Royce      63\n",
      "MGB              36\n",
      "Triumph          34\n",
      "TVR              14\n",
      "Name: count, dtype: int64\n"
     ]
    }
   ],
   "source": [
    "# 4 - Contagem de valores por Fabricante\n",
    "print(\"Contagem de valores por Fabricante\")\n",
    "print(data[\"Fabricante\"].value_counts())"
   ]
  }
 ],
 "metadata": {
  "kernelspec": {
   "display_name": "Python 3",
   "language": "python",
   "name": "python3"
  },
  "language_info": {
   "codemirror_mode": {
    "name": "ipython",
    "version": 3
   },
   "file_extension": ".py",
   "mimetype": "text/x-python",
   "name": "python",
   "nbconvert_exporter": "python",
   "pygments_lexer": "ipython3",
   "version": "3.11.3"
  }
 },
 "nbformat": 4,
 "nbformat_minor": 2
}
