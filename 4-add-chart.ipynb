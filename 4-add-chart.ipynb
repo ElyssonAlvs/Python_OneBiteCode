{
 "cells": [
  {
   "cell_type": "code",
   "execution_count": 6,
   "metadata": {},
   "outputs": [],
   "source": [
    "from openpyxl import load_workbook\n",
    "from openpyxl.chart import BarChart, Reference\n",
    "\n",
    "# Ler pasta de trabalho e planilha\n",
    "wb = load_workbook('data/PivotTable.xlsx')\n",
    "sheet = wb[\"Relatorio\"]"
   ]
  },
  {
   "cell_type": "code",
   "execution_count": 7,
   "metadata": {},
   "outputs": [
    {
     "name": "stdout",
     "output_type": "stream",
     "text": [
      "1 8\n",
      "1 5\n"
     ]
    }
   ],
   "source": [
    "# Referencias das linhas e colunas\n",
    "min_column = wb.active.min_column\n",
    "max_column = wb.active.max_column\n",
    "print(min_column, max_column)\n",
    "min_row = wb.active.min_row\n",
    "max_row = wb.active.max_row\n",
    "print(min_row, max_row)"
   ]
  },
  {
   "cell_type": "code",
   "execution_count": 8,
   "metadata": {},
   "outputs": [],
   "source": [
    "# Adicionando Dados e Categorias no gráficos\n",
    "\n",
    "barchart = BarChart()\n",
    "\n",
    "data = Reference(\n",
    "    sheet,\n",
    "    min_col=max_column,\n",
    "    max_col=max_column + 1,\n",
    "    min_row=min_row,\n",
    "    max_row=max_row\n",
    ")\n",
    "\n",
    "categories = Reference(\n",
    "    sheet,\n",
    "    min_col=min_column,\n",
    "    max_col=min_column,\n",
    "    # Evitar o cabeçalho\n",
    "    min_row=min_row + 1,\n",
    "    max_row=max_row\n",
    ")\n",
    "\n",
    "barchart.add_data(data, titles_from_data=True)\n",
    "barchart.set_categories(categories)"
   ]
  },
  {
   "cell_type": "code",
   "execution_count": 9,
   "metadata": {},
   "outputs": [],
   "source": [
    "# Adicionando gráfico na planilha\n",
    "sheet.add_chart(barchart, \"B10\")\n",
    "barchart.title = \"Vendas por Fabricante\"\n",
    "barchart.style = 2"
   ]
  },
  {
   "cell_type": "code",
   "execution_count": 10,
   "metadata": {},
   "outputs": [],
   "source": [
    "# Salvar Workbook\n",
    "wb.save('data/barchart.xlsx')"
   ]
  }
 ],
 "metadata": {
  "kernelspec": {
   "display_name": "Python 3",
   "language": "python",
   "name": "python3"
  },
  "language_info": {
   "codemirror_mode": {
    "name": "ipython",
    "version": 3
   },
   "file_extension": ".py",
   "mimetype": "text/x-python",
   "name": "python",
   "nbconvert_exporter": "python",
   "pygments_lexer": "ipython3",
   "version": "3.11.3"
  }
 },
 "nbformat": 4,
 "nbformat_minor": 2
}
