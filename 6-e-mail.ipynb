{
 "cells": [
  {
   "cell_type": "code",
   "execution_count": 2,
   "metadata": {},
   "outputs": [
    {
     "name": "stdout",
     "output_type": "stream",
     "text": [
      "Senha definida nas configuracoes do e-mail, verificacao de dois\n",
      "fatores, senhas de app, onde eh uma forma de apps entrerem na conta\n",
      "com uma senha aleatoria.\n"
     ]
    }
   ],
   "source": [
    "import smtplib\n",
    "import ssl\n",
    "import mimetypes\n",
    "from email.message import EmailMessage\n",
    "\n",
    "# Dados do E-mail\n",
    "password = open('senha', 'r').read()\n",
    "from_email = 'emailtest@gmail.com'\n",
    "to_email = 'emailtest@gmail.com'\n",
    "subject = 'Teste de envio de e-mail com Python'\n",
    "body = 'Testando automação de e-mail com Python'"
   ]
  },
  {
   "cell_type": "code",
   "execution_count": null,
   "metadata": {},
   "outputs": [],
   "source": [
    "# Estrutura do E-mail\n",
    "message = EmailMessage()\n",
    "message['From'] = from_email\n",
    "message['To'] = to_email\n",
    "message['Subject'] = subject\n",
    "\n",
    "message.set_content(body)\n",
    "# safe irá garantir que a conexão seja segura usando SSL criando um contexto seguro, default\n",
    "safe = ssl.create_default_context()"
   ]
  },
  {
   "cell_type": "code",
   "execution_count": null,
   "metadata": {},
   "outputs": [],
   "source": [
    "# Adicionar anexos\n",
    "anexo = 'planilha_com_formula.xlsx'\n",
    "# Verificar o tipo de arquivo\n",
    "mime_type, mime_subtype = mimetypes.guess_type(anexo)[0].split('/')\n",
    "# Ler o arquivo\n",
    "with open(anexo, 'rb') as arquivo:\n",
    "    arquivo.read()\n",
    "    maintype=mime_type,\n",
    "    subtype=mime_subtype,\n",
    "    filename=anexo"
   ]
  },
  {
   "cell_type": "code",
   "execution_count": null,
   "metadata": {},
   "outputs": [],
   "source": [
    "# Envio do E-mail\n",
    "# smtp irá enviar o e-mail usando o servidor do Gmail\n",
    "with smtplib.SMTP_SSL('smtp.gmail.com', 465, context=safe) as smtp:\n",
    "    smtp.login(from_email, password)\n",
    "    smtp.sendmail(from_email, to_email, message.as_string())"
   ]
  }
 ],
 "metadata": {
  "kernelspec": {
   "display_name": "Python 3",
   "language": "python",
   "name": "python3"
  },
  "language_info": {
   "codemirror_mode": {
    "name": "ipython",
    "version": 3
   },
   "file_extension": ".py",
   "mimetype": "text/x-python",
   "name": "python",
   "nbconvert_exporter": "python",
   "pygments_lexer": "ipython3",
   "version": "3.11.3"
  }
 },
 "nbformat": 4,
 "nbformat_minor": 2
}
