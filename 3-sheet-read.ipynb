{
 "cells": [
  {
   "cell_type": "markdown",
   "metadata": {},
   "source": [
    "Openpyxl permite o trabalho conjunto com uma ou mais planilhas, sendo da escolha do usuário qual deseja trabalhar."
   ]
  },
  {
   "cell_type": "code",
   "execution_count": 13,
   "metadata": {},
   "outputs": [
    {
     "name": "stdout",
     "output_type": "stream",
     "text": [
      "<openpyxl.workbook.workbook.Workbook object at 0x00000283D479F490>\n"
     ]
    }
   ],
   "source": [
    "from openpyxl import load_workbook\n",
    "\n",
    "# Ler pasta de trabalho e planilha\n",
    "wb = load_workbook('data/PivotTable.xlsx')\n",
    "print(wb)"
   ]
  },
  {
   "cell_type": "code",
   "execution_count": 14,
   "metadata": {},
   "outputs": [
    {
     "name": "stdout",
     "output_type": "stream",
     "text": [
      "<Worksheet \"Relatorio\">\n"
     ]
    }
   ],
   "source": [
    "try:\n",
    "    sheet = wb[\"Relatorio\"]\n",
    "    print(sheet)\n",
    "except KeyError:\n",
    "    print(\"Worksheet 'Relatorio' does not exist.\")"
   ]
  },
  {
   "cell_type": "code",
   "execution_count": 15,
   "metadata": {},
   "outputs": [
    {
     "name": "stdout",
     "output_type": "stream",
     "text": [
      "2013\n",
      "2355660\n"
     ]
    }
   ],
   "source": [
    "# Acessar um valor específico\n",
    "print(sheet[\"A3\"].value)\n",
    "print(sheet[\"B3\"].value)"
   ]
  },
  {
   "cell_type": "code",
   "execution_count": 18,
   "metadata": {},
   "outputs": [
    {
     "name": "stdout",
     "output_type": "stream",
     "text": [
      "{'2012 o Aston martin vendeu 1152000 carros e a Bentley 919500 carros'}\n",
      "{'2013 o Aston martin vendeu 2355660 carros e a Bentley 702500 carros'}\n",
      "{'2014 o Aston martin vendeu 2262440 carros e a Bentley 1811500 carros'}\n",
      "{'2015 o Aston martin vendeu 4915940 carros e a Bentley 1517750 carros'}\n"
     ]
    }
   ],
   "source": [
    "# Iterando valores por meio de loop\n",
    "for i in range(2,6):\n",
    "    # Pegar valores de cada coluna\n",
    "    ano = sheet[\"A%s\" % i].value\n",
    "    am = sheet[\"B%s\" % i].value\n",
    "    bt = sheet[\"C%s\" % i].value\n",
    "    print({\"{0} o Aston martin vendeu {1} carros e a Bentley {2} carros\".format(ano, am, bt)})"
   ]
  }
 ],
 "metadata": {
  "kernelspec": {
   "display_name": "Python 3",
   "language": "python",
   "name": "python3"
  },
  "language_info": {
   "codemirror_mode": {
    "name": "ipython",
    "version": 3
   },
   "file_extension": ".py",
   "mimetype": "text/x-python",
   "name": "python",
   "nbconvert_exporter": "python",
   "pygments_lexer": "ipython3",
   "version": "3.11.3"
  }
 },
 "nbformat": 4,
 "nbformat_minor": 2
}
