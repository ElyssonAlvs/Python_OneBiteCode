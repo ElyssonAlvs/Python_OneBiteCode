{
 "cells": [
  {
   "cell_type": "code",
   "execution_count": 1,
   "metadata": {},
   "outputs": [
    {
     "name": "stdout",
     "output_type": "stream",
     "text": [
      "1 8\n",
      "1 5\n"
     ]
    }
   ],
   "source": [
    "from openpyxl import load_workbook\n",
    "from openpyxl.utils import get_column_letter\n",
    "\n",
    "\n",
    "# Ler pasta de trabalho e planilha\n",
    "wb = load_workbook('data/barchart.xlsx')\n",
    "sheet = wb[\"Relatorio\"]\n",
    "\n",
    "# Referencias das linhas e colunas\n",
    "min_column = wb.active.min_column\n",
    "max_column = wb.active.max_column\n",
    "print(min_column, max_column)\n",
    "min_row = wb.active.min_row\n",
    "max_row = wb.active.max_row\n",
    "print(min_row, max_row)"
   ]
  },
  {
   "cell_type": "code",
   "execution_count": 2,
   "metadata": {},
   "outputs": [],
   "source": [
    "# Incluindo Fórmula\n",
    "for i in range(min_column+1, max_column+1):\n",
    "    # Realizando a soma das colunas de forma dinâmica\n",
    "    letter = get_column_letter(i)\n",
    "    sheet[f'{letter}{max_row+1}'] = f'=SUM({letter}{min_row+1}:{letter}{max_row})'\n",
    "    sheet[f'{letter}{max_row+1}'].style = 'Currency'\n",
    "    \n",
    "wb.save(\"planilha_com_formula.xlsx\")"
   ]
  }
 ],
 "metadata": {
  "kernelspec": {
   "display_name": "Python 3",
   "language": "python",
   "name": "python3"
  },
  "language_info": {
   "codemirror_mode": {
    "name": "ipython",
    "version": 3
   },
   "file_extension": ".py",
   "mimetype": "text/x-python",
   "name": "python",
   "nbconvert_exporter": "python",
   "pygments_lexer": "ipython3",
   "version": "3.11.3"
  }
 },
 "nbformat": 4,
 "nbformat_minor": 2
}
