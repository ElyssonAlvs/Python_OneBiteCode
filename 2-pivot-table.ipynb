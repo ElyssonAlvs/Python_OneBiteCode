{
 "cells": [
  {
   "cell_type": "code",
   "execution_count": 16,
   "metadata": {},
   "outputs": [
    {
     "name": "stdout",
     "output_type": "stream",
     "text": [
      "Data base\n",
      "    DataNotaFiscal    Fabricante          Estado  ValorVenda  ValorCusto  \\\n",
      "0       2012-10-04   Rolls Royce       São Paulo       95000       50000   \n",
      "1       2012-01-01  Aston Martin       São Paulo      120000       75000   \n",
      "2       2012-02-02   Rolls Royce       São Paulo       88000       75000   \n",
      "3       2012-03-03   Rolls Royce       São Paulo       89000       88000   \n",
      "4       2012-04-04   Rolls Royce       São Paulo       92000       62000   \n",
      "..             ...           ...             ...         ...         ...   \n",
      "452     2015-09-23  Aston Martin  Rio de Janeiro       39750       27500   \n",
      "453     2015-10-24  Aston Martin  Rio de Janeiro       40440       22500   \n",
      "454     2015-11-25   Rolls Royce  Rio de Janeiro       72000       22500   \n",
      "455     2015-11-26  Aston Martin  Rio de Janeiro       40440       36125   \n",
      "456     2015-11-27  Aston Martin  Rio de Janeiro       77250       22500   \n",
      "\n",
      "     TotalDesconto  CustoEntrega  CustoMaoDeObra  \\\n",
      "0            500.0           750             750   \n",
      "1              0.0          1500             550   \n",
      "2            750.0          1000             550   \n",
      "3              0.0          1000             550   \n",
      "4              0.0          1500             550   \n",
      "..             ...           ...             ...   \n",
      "452         1300.0           -75            1250   \n",
      "453          550.0           175            1250   \n",
      "454         1050.0           -75             950   \n",
      "455          800.0           875            1250   \n",
      "456          550.0           875            1250   \n",
      "\n",
      "                        NomeCliente       Modelo       Cor   Ano  \n",
      "0                       Aldo Motors     Camargue  Vermelho  2012  \n",
      "1                       Honest John          DBS      Azul  2012  \n",
      "2                     Bright Orange  Prata Ghost     Verde  2012  \n",
      "3                       Honest John  Prata Ghost      Azul  2012  \n",
      "4                       Wheels'R'Us     Camargue     Prata  2012  \n",
      "..                              ...          ...       ...   ...  \n",
      "452  Buckingham Palace Car Services          DB9     Preto  2015  \n",
      "453  British Luxury Automobile Corp          DB9  Vermelho  2015  \n",
      "454                Classy Car Sales     Camargue      Azul  2015  \n",
      "455                 Ambassador Cars          DB9     Verde  2015  \n",
      "456                  Embassy Motors          DB9     Prata  2015  \n",
      "\n",
      "[457 rows x 12 columns]\n"
     ]
    }
   ],
   "source": [
    "import pandas as pd\n",
    "\n",
    "# 1 - Importando od Dados\n",
    "data = pd.read_excel(\"data/VendaCarros.xlsx\")\n",
    "print(\"Data base\")\n",
    "print(data)"
   ]
  },
  {
   "cell_type": "code",
   "execution_count": 17,
   "metadata": {},
   "outputs": [
    {
     "name": "stdout",
     "output_type": "stream",
     "text": [
      "<class 'pandas.core.frame.DataFrame'>\n",
      "DataNotaFiscal    datetime64[ns]\n",
      "Fabricante                object\n",
      "Estado                    object\n",
      "ValorVenda                 int64\n",
      "ValorCusto                 int64\n",
      "TotalDesconto            float64\n",
      "CustoEntrega               int64\n",
      "CustoMaoDeObra             int64\n",
      "NomeCliente               object\n",
      "Modelo                    object\n",
      "Cor                       object\n",
      "Ano                        int64\n",
      "dtype: object\n",
      "\n",
      "-----------------------------------\n",
      "\n",
      "Selecionando uma coluna\n",
      "0           São Paulo\n",
      "1           São Paulo\n",
      "2           São Paulo\n",
      "3           São Paulo\n",
      "4           São Paulo\n",
      "            ...      \n",
      "452    Rio de Janeiro\n",
      "453    Rio de Janeiro\n",
      "454    Rio de Janeiro\n",
      "455    Rio de Janeiro\n",
      "456    Rio de Janeiro\n",
      "Name: Estado, Length: 457, dtype: object\n"
     ]
    }
   ],
   "source": [
    "# Descobrir o tipo do banco de dados\n",
    "print(type(data))\n",
    "print(data.dtypes)\n",
    "print(\"\\n-----------------------------------\\n\")\n",
    "# Selecionando uma coluna\n",
    "print(\"Selecionando uma coluna\")\n",
    "print(data[\"Estado\"])"
   ]
  },
  {
   "cell_type": "markdown",
   "metadata": {},
   "source": [
    "Para deixar o trabalho mais limpo, é interessante separar uma parte do Banco de Dados para estudar."
   ]
  },
  {
   "cell_type": "code",
   "execution_count": 18,
   "metadata": {},
   "outputs": [
    {
     "name": "stdout",
     "output_type": "stream",
     "text": [
      "       Fabricante  ValorVenda   Ano\n",
      "0     Rolls Royce       95000  2012\n",
      "1    Aston Martin      120000  2012\n",
      "2     Rolls Royce       88000  2012\n",
      "3     Rolls Royce       89000  2012\n",
      "4     Rolls Royce       92000  2012\n",
      "..            ...         ...   ...\n",
      "452  Aston Martin       39750  2015\n",
      "453  Aston Martin       40440  2015\n",
      "454   Rolls Royce       72000  2015\n",
      "455  Aston Martin       40440  2015\n",
      "456  Aston Martin       77250  2015\n",
      "\n",
      "[457 rows x 3 columns]\n"
     ]
    }
   ],
   "source": [
    "# Selecionando colunas especificas do dataframe\n",
    "df = data[[\"Fabricante\", \"ValorVenda\", \"Ano\"]]\n",
    "print(df)"
   ]
  },
  {
   "cell_type": "code",
   "execution_count": 19,
   "metadata": {},
   "outputs": [
    {
     "name": "stdout",
     "output_type": "stream",
     "text": [
      "Fabricante  Aston Martin    Bentley     Jaguar       MGB  Rolls Royce  \\\n",
      "Ano                                                                     \n",
      "2012           1152000.0   919500.0   647500.0       NaN     466500.0   \n",
      "2013           2355660.0   702500.0  1380000.0  315000.0    1947300.0   \n",
      "2014           2262440.0  1811500.0  1352000.0       NaN     960500.0   \n",
      "2015           4915940.0  1517750.0  2939500.0  696000.0    3982600.0   \n",
      "\n",
      "Fabricante       TVR   Triumph  \n",
      "Ano                             \n",
      "2012             NaN       NaN  \n",
      "2013        171750.0  286500.0  \n",
      "2014             NaN       NaN  \n",
      "2015        327000.0  588500.0  \n"
     ]
    }
   ],
   "source": [
    "# Criando uma tabela pivô\n",
    "pivot_table = df.pivot_table(\n",
    "    index=\"Ano\", \n",
    "    columns=\"Fabricante\", \n",
    "    values=\"ValorVenda\",\n",
    "    # Função de agregação, para cada um dos anos e fabricantes, somar os valores de venda\n",
    "    aggfunc=\"sum\"\n",
    "    )\n",
    "print(pivot_table)"
   ]
  },
  {
   "cell_type": "code",
   "execution_count": 20,
   "metadata": {},
   "outputs": [
    {
     "name": "stderr",
     "output_type": "stream",
     "text": [
      "C:\\Users\\elyss\\AppData\\Local\\Temp\\ipykernel_8496\\367079590.py:2: FutureWarning: Starting with pandas version 3.0 all arguments of to_excel except for the argument 'excel_writer' will be keyword-only.\n",
      "  pivot_table.to_excel(\"data/PivotTable.xlsx\", \"Relatorio\")\n"
     ]
    }
   ],
   "source": [
    "# Importa a tabela pivô para um arquivo excel\n",
    "pivot_table.to_excel(\"data/PivotTable.xlsx\", \"Relatorio\")"
   ]
  }
 ],
 "metadata": {
  "kernelspec": {
   "display_name": "Python 3",
   "language": "python",
   "name": "python3"
  },
  "language_info": {
   "codemirror_mode": {
    "name": "ipython",
    "version": 3
   },
   "file_extension": ".py",
   "mimetype": "text/x-python",
   "name": "python",
   "nbconvert_exporter": "python",
   "pygments_lexer": "ipython3",
   "version": "3.11.3"
  }
 },
 "nbformat": 4,
 "nbformat_minor": 2
}
